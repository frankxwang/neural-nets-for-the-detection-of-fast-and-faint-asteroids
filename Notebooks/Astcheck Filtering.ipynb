{
 "cells": [
  {
   "cell_type": "markdown",
   "metadata": {},
   "source": [
    "# Purpose: Notebook to generate the MPCORB files needed for astcheck to check to see if a previously discovered asteroid is at a certain location"
   ]
  },
  {
   "cell_type": "code",
   "execution_count": 11,
   "metadata": {},
   "outputs": [],
   "source": [
    "import glob\n",
    "import matplotlib.pyplot as plt\n",
    "import numpy as np\n",
    "import subprocess\n",
    "import os\n",
    "import pickle as pkl\n",
    "import tables"
   ]
  },
  {
   "cell_type": "code",
   "execution_count": 42,
   "metadata": {},
   "outputs": [],
   "source": [
    "filenames = np.sort(glob.glob(\"/mnt/etdisk9/ztf_neos/training_examples/science/*.fits\"))"
   ]
  },
  {
   "cell_type": "code",
   "execution_count": 43,
   "metadata": {},
   "outputs": [],
   "source": [
    "dates = set()\n",
    "for filename in filenames:\n",
    "    dates.add(filename[52:60])"
   ]
  },
  {
   "cell_type": "code",
   "execution_count": 44,
   "metadata": {},
   "outputs": [
    {
     "name": "stdout",
     "output_type": "stream",
     "text": [
      "['20180320', '20180321', '20180322', '20180325', '20180326', '20180327', '20180328', '20180329', '20180330', '20180331', '20180401', '20180402', '20180403', '20180406', '20180407', '20180408', '20180409', '20180410', '20180411', '20180413', '20180414', '20180415', '20180416', '20180417', '20180418', '20180419', '20180420', '20180421', '20180422', '20180423', '20180424', '20180425', '20180426', '20180427', '20180428', '20180429', '20180430', '20180504', '20180505', '20180506', '20180507', '20180508', '20180509', '20180510', '20180511', '20180512', '20180514', '20180516', '20180517', '20180518', '20180519', '20180520', '20180521', '20180522', '20180523', '20180524', '20180525', '20180528', '20180529', '20180530', '20180531', '20180601', '20180602', '20180603', '20180604', '20180605', '20180606', '20180607', '20180608', '20180609', '20180610', '20180611', '20180612', '20180613', '20180614', '20180615', '20180616', '20180617', '20180618', '20180619', '20180620', '20180621', '20180622', '20180623', '20180624', '20180625', '20180626', '20180627', '20180628', '20180629', '20180630', '20180701', '20180702', '20180703', '20180704', '20180705', '20180706', '20180707', '20180708', '20180709', '20180711', '20180712', '20180713', '20180714', '20180715', '20180716', '20180717', '20180718', '20180719', '20180720', '20180721', '20180722', '20180723', '20180724', '20180725', '20180726', '20180727', '20180728', '20180729', '20180730', '20180731', '20180801', '20180802', '20180803', '20180804', '20180805', '20180806', '20180807', '20180808', '20180810', '20180811', '20180812', '20180813', '20180814', '20180815', '20180816', '20180817', '20180818', '20180819', '20180820', '20180821', '20180822', '20180823', '20180824', '20180825', '20180826', '20180827', '20180828', '20180829', '20180830', '20180831', '20180901', '20180902', '20180903', '20180904', '20180905', '20180906', '20180907', '20180908', '20180909', '20180910', '20180911', '20180912', '20180913', '20180914', '20180915', '20180916', '20180917', '20180918', '20180919', '20180920', '20180921', '20180922', '20180923', '20180924', '20180925', '20180926', '20180927', '20180928', '20180929', '20181006', '20181008', '20181009', '20181031', '20181101', '20181102', '20181103', '20181104', '20181105', '20181106', '20181107', '20181108', '20181109', '20181110', '20181111', '20181112', '20181113', '20181114', '20181115', '20181116', '20181117', '20181118', '20181119', '20181120', '20181121', '20181125', '20181126', '20181127', '20181128', '20181129', '20181203', '20181204', '20181205', '20181209', '20181210', '20181212', '20181213', '20181214', '20181215', '20181216', '20181217', '20181219', '20181220', '20181221', '20181222', '20181223', '20181224', '20181228', '20181229', '20181230']\n",
      "230\n"
     ]
    }
   ],
   "source": [
    "print(sorted(list(dates)))\n",
    "print(len(dates))"
   ]
  },
  {
   "cell_type": "code",
   "execution_count": 45,
   "metadata": {},
   "outputs": [
    {
     "data": {
      "text/plain": [
       "56"
      ]
     },
     "execution_count": 45,
     "metadata": {},
     "output_type": "execute_result"
    }
   ],
   "source": [
    "len(\"/mnt/etdisk9/ztf_neos/training_examples/science/ztf_2018\")"
   ]
  },
  {
   "cell_type": "code",
   "execution_count": 46,
   "metadata": {},
   "outputs": [],
   "source": [
    "dates_list = sorted(list(dates))[::-1]"
   ]
  },
  {
   "cell_type": "code",
   "execution_count": 47,
   "metadata": {},
   "outputs": [],
   "source": [
    "from tqdm.notebook import tqdm"
   ]
  },
  {
   "cell_type": "code",
   "execution_count": null,
   "metadata": {},
   "outputs": [
    {
     "data": {
      "application/vnd.jupyter.widget-view+json": {
       "model_id": "4b9df3a6ee1c4830af7aec084bab2062",
       "version_major": 2,
       "version_minor": 0
      },
      "text/plain": [
       "HBox(children=(FloatProgress(value=0.0, max=229.0), HTML(value='')))"
      ]
     },
     "metadata": {},
     "output_type": "display_data"
    },
    {
     "name": "stdout",
     "output_type": "stream",
     "text": [
      "20181229\n",
      "20181228\n",
      "20181224\n",
      "20181223\n",
      "20181222\n",
      "20181221\n",
      "20181220\n",
      "20181219\n",
      "20181217\n",
      "20181216\n",
      "20181215\n",
      "20181214\n",
      "20181213\n",
      "20181212\n",
      "20181210\n",
      "20181209\n",
      "20181205\n",
      "20181204\n",
      "20181203\n",
      "20181129\n",
      "20181128\n",
      "20181127\n",
      "20181126\n",
      "20181125\n",
      "20181121\n",
      "20181120\n",
      "20181119\n",
      "20181118\n",
      "20181117\n",
      "20181116\n",
      "20181115\n",
      "20181114\n",
      "20181113\n",
      "20181112\n",
      "20181111\n",
      "20181110\n",
      "20181109\n",
      "20181108\n",
      "20181107\n",
      "20181106\n",
      "20181105\n",
      "20181104\n",
      "20181103\n",
      "20181102\n",
      "20181101\n",
      "20181031\n",
      "20181009\n",
      "20181008\n",
      "20181006\n",
      "20180929\n"
     ]
    }
   ],
   "source": [
    "for i in tqdm(list(range(1, len(dates_list)))):\n",
    "    \n",
    "    date = dates_list[i]\n",
    "    date_prev = dates_list[i - 1]\n",
    "    \n",
    "    print(date)\n",
    "    \n",
    "    dir1 = \"/mnt/etdisk9/ztf_neos/mpcorb/\" + date + \"/mpcorb.dat\"\n",
    "    dir2 = \"/mnt/etdisk9/ztf_neos/mpcorb/\" + date_prev + \"/mpcorb.dat\"\n",
    "\n",
    "    if not os.path.exists(\"/mnt/etdisk9/ztf_neos/mpcorb/\" + date):\n",
    "        os.mkdir(\"/mnt/etdisk9/ztf_neos/mpcorb/\" + date)\n",
    "    else:\n",
    "        print(\"YIKES \" + date + \" \" + str(i))\n",
    "        \n",
    "    subprocess.run([\"../lunar/integrat\", dir2, dir1, date, \"-f\", \"lnxm13000p17000.431\"], cwd=\"/home/fwang/integrat_asteroids\")"
   ]
  },
  {
   "cell_type": "code",
   "execution_count": 80,
   "metadata": {},
   "outputs": [],
   "source": [
    "import parmap"
   ]
  },
  {
   "cell_type": "code",
   "execution_count": 81,
   "metadata": {},
   "outputs": [
    {
     "name": "stderr",
     "output_type": "stream",
     "text": [
      "231it [16:03,  4.17s/it]                          \n"
     ]
    },
    {
     "data": {
      "text/plain": [
       "[None,\n",
       " None,\n",
       " None,\n",
       " None,\n",
       " None,\n",
       " None,\n",
       " None,\n",
       " None,\n",
       " None,\n",
       " None,\n",
       " None,\n",
       " None,\n",
       " None,\n",
       " None,\n",
       " None,\n",
       " None,\n",
       " None,\n",
       " None,\n",
       " None,\n",
       " None,\n",
       " None,\n",
       " None,\n",
       " None,\n",
       " None,\n",
       " None,\n",
       " None,\n",
       " None,\n",
       " None,\n",
       " None,\n",
       " None,\n",
       " None,\n",
       " None,\n",
       " None,\n",
       " None,\n",
       " None,\n",
       " None,\n",
       " None,\n",
       " None,\n",
       " None,\n",
       " None,\n",
       " None,\n",
       " None,\n",
       " None,\n",
       " None,\n",
       " None,\n",
       " None,\n",
       " None,\n",
       " None,\n",
       " None,\n",
       " None,\n",
       " None,\n",
       " None,\n",
       " None,\n",
       " None,\n",
       " None,\n",
       " None,\n",
       " None,\n",
       " None,\n",
       " None,\n",
       " None,\n",
       " None,\n",
       " None,\n",
       " None,\n",
       " None,\n",
       " None,\n",
       " None,\n",
       " None,\n",
       " None,\n",
       " None,\n",
       " None,\n",
       " None,\n",
       " None,\n",
       " None,\n",
       " None,\n",
       " None,\n",
       " None,\n",
       " None,\n",
       " None,\n",
       " None,\n",
       " None,\n",
       " None,\n",
       " None,\n",
       " None,\n",
       " None,\n",
       " None,\n",
       " None,\n",
       " None,\n",
       " None,\n",
       " None,\n",
       " None,\n",
       " None,\n",
       " None,\n",
       " None,\n",
       " None,\n",
       " None,\n",
       " None,\n",
       " None,\n",
       " None,\n",
       " None,\n",
       " None,\n",
       " None,\n",
       " None,\n",
       " None,\n",
       " None,\n",
       " None,\n",
       " None,\n",
       " None,\n",
       " None,\n",
       " None,\n",
       " None,\n",
       " None,\n",
       " None,\n",
       " None,\n",
       " None,\n",
       " None,\n",
       " None,\n",
       " None,\n",
       " None,\n",
       " None,\n",
       " None,\n",
       " None,\n",
       " None,\n",
       " None,\n",
       " None,\n",
       " None,\n",
       " None,\n",
       " None,\n",
       " None,\n",
       " None,\n",
       " None,\n",
       " None,\n",
       " None,\n",
       " None,\n",
       " None,\n",
       " None,\n",
       " None,\n",
       " None,\n",
       " None,\n",
       " None,\n",
       " None,\n",
       " None,\n",
       " None,\n",
       " None,\n",
       " None,\n",
       " None,\n",
       " None,\n",
       " None,\n",
       " None,\n",
       " None,\n",
       " None,\n",
       " None,\n",
       " None,\n",
       " None,\n",
       " None,\n",
       " None,\n",
       " None,\n",
       " None,\n",
       " None,\n",
       " None,\n",
       " None,\n",
       " None,\n",
       " None,\n",
       " None,\n",
       " None,\n",
       " None,\n",
       " None,\n",
       " None,\n",
       " None,\n",
       " None,\n",
       " None,\n",
       " None,\n",
       " None,\n",
       " None,\n",
       " None,\n",
       " None,\n",
       " None,\n",
       " None,\n",
       " None,\n",
       " None,\n",
       " None,\n",
       " None,\n",
       " None,\n",
       " None,\n",
       " None,\n",
       " None,\n",
       " None,\n",
       " None,\n",
       " None,\n",
       " None,\n",
       " None,\n",
       " None,\n",
       " None,\n",
       " None,\n",
       " None,\n",
       " None,\n",
       " None,\n",
       " None,\n",
       " None,\n",
       " None,\n",
       " None,\n",
       " None,\n",
       " None,\n",
       " None,\n",
       " None,\n",
       " None,\n",
       " None,\n",
       " None,\n",
       " None,\n",
       " None,\n",
       " None,\n",
       " None,\n",
       " None,\n",
       " None,\n",
       " None,\n",
       " None,\n",
       " None,\n",
       " None,\n",
       " None,\n",
       " None,\n",
       " None,\n",
       " None,\n",
       " None,\n",
       " None,\n",
       " None,\n",
       " None,\n",
       " None,\n",
       " None,\n",
       " None,\n",
       " None,\n",
       " None]"
      ]
     },
     "execution_count": 81,
     "metadata": {},
     "output_type": "execute_result"
    }
   ],
   "source": [
    "# for i in tqdm(list(range(0, len(dates_list)))):\n",
    "\n",
    "def run_mpc2sof(date):\n",
    "    directory = \"/mnt/etdisk9/ztf_neos/mpcorb/\" + date\n",
    "    filepath = directory + \"/mpcorb.dat\"\n",
    "    subprocess.run([\"/home/fwang/lunar/mpc2sof\", \"mpcorb.dat\", \"/home/fwang/integrat_asteroids/ELEMENTS.COMET\"], cwd=directory)\n",
    "    \n",
    "    \n",
    "parmap.map(run_mpc2sof, dates_list, pm_pbar=True)"
   ]
  },
  {
   "cell_type": "code",
   "execution_count": 48,
   "metadata": {},
   "outputs": [
    {
     "data": {
      "application/vnd.jupyter.widget-view+json": {
       "model_id": "e66173b409fa4b8e88b0f6668334c66b",
       "version_major": 2,
       "version_minor": 0
      },
      "text/plain": [
       "HBox(children=(FloatProgress(value=0.0, max=230.0), HTML(value='')))"
      ]
     },
     "metadata": {},
     "output_type": "display_data"
    },
    {
     "name": "stdout",
     "output_type": "stream",
     "text": [
      "\n"
     ]
    }
   ],
   "source": [
    "for i in tqdm(list(range(0, len(dates_list)))):\n",
    "\n",
    "    date = dates_list[i]\n",
    "    directory = \"/mnt/etdisk9/ztf_neos/mpcorb/\" + date\n",
    "    subprocess.run([\"cp\", \"/home/fwang/integrat_asteroids/ObsCodes.html\", \".\"], cwd=directory)"
   ]
  },
  {
   "cell_type": "code",
   "execution_count": 3,
   "metadata": {},
   "outputs": [],
   "source": [
    "def getObsString(position_pix, sci_file, ref_file, title):\n",
    "    \n",
    "    datetime = sci_file.split(\"/\")[-1].split(\"_\")[1]\n",
    "    date = datetime[:4] + \" \" + datetime[4:6] + \" \" + datetime[6:8] + \".\" + datetime[8:]\n",
    "    \n",
    "    wcs_ref = wcs.WCS(ref_file)\n",
    "    \n",
    "    ra, dec = wcs_ref.all_pix2world(np.array([position_pix]), 0, ra_dec_order=True)[0]\n",
    "\n",
    "    c = SkyCoord(ra, dec, frame=\"icrs\", unit=\"deg\")\n",
    "    ra_str = \"{:02d} {:02d} {:06.3f}\".format(int(c.ra.hms.h), int(c.ra.hms.m), c.ra.hms.s)\n",
    "    dec_str = \"{:02d} {:02d} {:05.2f}\".format(abs(int(c.dec.dms.d)), abs(int(c.dec.dms.m)), abs(c.dec.dms.s))\n",
    "    \n",
    "    title = \"_\" * (12 - len(title)) + title\n",
    "    return title + \" \" * 3 + date + ra_str + (\"+\" if dec >= 0 else \"-\") + dec_str + \" \" * 21 + \"I41\""
   ]
  },
  {
   "cell_type": "code",
   "execution_count": 4,
   "metadata": {},
   "outputs": [
    {
     "name": "stderr",
     "output_type": "stream",
     "text": [
      "WARNING: WrongDBMModuleWarning: Existing astropy cache is in an unsupported format, either install the appropriate package or use astropy.utils.data.clear_download_cache() to delete the whole cache; db type is dbm.gnu, but the module is not available [astropy.utils.data]\n",
      "WARNING: leap-second auto-update failed due to the following exception: WrongDBMModule('Existing astropy cache is in an unsupported format, either install the appropriate package or use astropy.utils.data.clear_download_cache() to delete the whole cache; db type is dbm.gnu, but the module is not available') [astropy.time.core]\n"
     ]
    }
   ],
   "source": [
    "from astropy import wcs\n",
    "from astropy.coordinates import SkyCoord\n",
    "size = 80\n",
    "def checkObs(positions, sci_file, ref_file, thresh):\n",
    "    \n",
    "    datetime = sci_file.split(\"/\")[-1].split(\"_\")[1]\n",
    "    \n",
    "    date = datetime[:8]\n",
    "    \n",
    "    directory = \"/mnt/etdisk9/ztf_neos/mpcorb/\" + date + \"/\"\n",
    "\n",
    "    with open(directory + \"obs.txt\", \"w\") as f:\n",
    "        \n",
    "        for i, position in enumerate(positions):\n",
    "            f.write(getObsString(position, sci_file, ref_file, str(i)) + \"\\n\")\n",
    "    \n",
    "    lines = subprocess.run([\"astcheck\", \"obs.txt\", \"-r\", str(thresh)], cwd=directory, capture_output=True, universal_newlines=True).stdout\n",
    "\n",
    "    info_line = False\n",
    "    \n",
    "    for line in lines.split(\"\\n\"):\n",
    "        if info_line:\n",
    "            infos = line.split()\n",
    "            if len(infos) == 7:\n",
    "                print(infos)\n",
    "            info_line = False\n",
    "        if len(line) > 0 and line[0] == \"_\":\n",
    "            info_line = True"
   ]
  },
  {
   "cell_type": "code",
   "execution_count": 7,
   "metadata": {},
   "outputs": [
    {
     "name": "stderr",
     "output_type": "stream",
     "text": [
      "WARNING: FITSFixedWarning: RADECSYS= 'ICRS ' \n",
      "the RADECSYS keyword is deprecated, use RADESYSa. [astropy.wcs.wcs]\n"
     ]
    },
    {
     "name": "stdout",
     "output_type": "stream",
     "text": [
      "['19809', '-8', '-4', '9', '18.4', '0', '0']\n"
     ]
    }
   ],
   "source": [
    "sci_file = \"/mnt/etdisk9/ztf_neos/training_examples/science/ztf_20181109418981_000509_zg_c08_o_q1_sciimg.fits\"\n",
    "ref_file = \"/mnt/etdisk9/ztf_neos/training_examples/reference/ztf_000509_zg_c08_q1_refimg.fits\"\n",
    "y = 553\n",
    "x = 1607\n",
    "\n",
    "checkObs([[x, y]], sci_file, ref_file, 10)"
   ]
  },
  {
   "cell_type": "code",
   "execution_count": 9,
   "metadata": {},
   "outputs": [
    {
     "name": "stderr",
     "output_type": "stream",
     "text": [
      "WARNING: FITSFixedWarning: RADECSYS= 'ICRS ' \n",
      "the RADECSYS keyword is deprecated, use RADESYSa. [astropy.wcs.wcs]\n"
     ]
    }
   ],
   "source": [
    "sci_file = \"/mnt/etdisk9/ztf_neos/training_examples/science/ztf_20180907357025_000394_zg_c03_o_q2_sciimg.fits\"\n",
    "ref_file = \"/mnt/etdisk9/ztf_neos/training_examples/reference/ztf_000394_zg_c03_q2_refimg.fits\"\n",
    "y = 109.5\n",
    "x = 837.5\n",
    "\n",
    "checkObs([[x, y]], sci_file, ref_file, 10)"
   ]
  },
  {
   "cell_type": "code",
   "execution_count": 114,
   "metadata": {},
   "outputs": [],
   "source": [
    "with open(\"/home/fwang/Pipeline/filtered_indexes.pkl\", \"rb\") as f:\n",
    "    indexes = pkl.load(f)"
   ]
  },
  {
   "cell_type": "code",
   "execution_count": 115,
   "metadata": {},
   "outputs": [],
   "source": [
    "# fileh = tables.open_file('/mnt/etdisk9/ztf_neos/training_examples/batches/filtered_dim_short_streaks_only.h5', mode='r')\n",
    "fileh = tables.open_file('/mnt/etdisk9/ztf_neos/training_examples/batches/filtered_short_streaks_no_overlap.h5', mode='r')\n",
    "\n",
    "train_images = fileh.root.train_images\n",
    "train_labels = fileh.root.train_labels\n",
    "\n",
    "# fileh.close()"
   ]
  },
  {
   "cell_type": "code",
   "execution_count": 130,
   "metadata": {},
   "outputs": [
    {
     "data": {
      "text/plain": [
       "<matplotlib.image.AxesImage at 0x7f8c29273e10>"
      ]
     },
     "execution_count": 130,
     "metadata": {},
     "output_type": "execute_result"
    },
    {
     "data": {
      "image/png": "[encoded data removed]",
      "text/plain": [
       "<Figure size 432x288 with 1 Axes>"
      ]
     },
     "metadata": {
      "needs_background": "light"
     },
     "output_type": "display_data"
    },
    {
     "data": {
      "image/png": "[encoded data removed]",
      "text/plain": [
       "<Figure size 432x288 with 1 Axes>"
      ]
     },
     "metadata": {
      "needs_background": "light"
     },
     "output_type": "display_data"
    }
   ],
   "source": [
    "i = np.random.choice(np.where(~indexes)[0])\n",
    "plt.imshow(train_images[i][..., 0], cmap=\"gray\")\n",
    "plt.figure()\n",
    "plt.imshow(train_images[i][..., 1], cmap=\"gray\")"
   ]
  },
  {
   "cell_type": "code",
   "execution_count": null,
   "metadata": {},
   "outputs": [],
   "source": []
  },
  {
   "cell_type": "code",
   "execution_count": null,
   "metadata": {},
   "outputs": [],
   "source": []
  }
 ],
 "metadata": {
  "kernelspec": {
   "display_name": "Python 3",
   "language": "python",
   "name": "python3"
  },
  "language_info": {
   "codemirror_mode": {
    "name": "ipython",
    "version": 3
   },
   "file_extension": ".py",
   "mimetype": "text/x-python",
   "name": "python",
   "nbconvert_exporter": "python",
   "pygments_lexer": "ipython3",
   "version": "3.7.9"
  }
 },
 "nbformat": 4,
 "nbformat_minor": 4
}
