{
 "cells": [
  {
   "cell_type": "markdown",
   "metadata": {},
   "source": [
    "# Purpose: Refining my differenced image preprocessing by generating synthetic streaks and extracting them"
   ]
  },
  {
   "cell_type": "code",
   "execution_count": 1,
   "metadata": {},
   "outputs": [],
   "source": [
    "import matplotlib.pyplot as plt\n",
    "import numpy as np\n",
    "import glob\n",
    "import math\n",
    "import cv2\n",
    "import sep\n",
    "from photutils import detect_threshold, detect_sources, deblend_sources, source_properties\n",
    "from skimage.feature import canny\n",
    "import skimage\n",
    "from scipy import ndimage as ndi\n",
    "import scipy\n",
    "from scipy.optimize import minimize\n",
    "import sys\n",
    "from functools import partial\n",
    "import scipy.stats as stats\n",
    "import random\n",
    "import reproject\n",
    "from astropy.io import fits\n",
    "from astropy.visualization import LinearStretch, ZScaleInterval, ImageNormalize"
   ]
  },
  {
   "cell_type": "code",
   "execution_count": 2,
   "metadata": {},
   "outputs": [],
   "source": [
    "# generated from generate_streak_distribution.py\n",
    "params_gamma_width = [4.79235037, 11.40523025, 1.64361626]\n",
    "# for the values below use uniform dist instead\n",
    "params_gamma_amplitude = [1.09717868, 1.99999993, 3.7169828]\n",
    "params_gamma_length = [4.16396709, 8.0180058, 2.68969172]\n",
    "\n",
    "# gain is the same for all images\n",
    "gain = 6.2\n",
    "\n",
    "# minimum amp of streak\n",
    "min_amplitude = 1.5\n",
    "\n",
    "\n",
    "def gaussian(x, offset, std, amp):\n",
    "    return amp * np.exp(-np.power(x - offset, 2.) / (2 * np.power(std, 2.)))\n",
    "\n",
    "\n",
    "def gaussian_streak(width, offset, std, amp, bkg):\n",
    "    dist = gaussian(np.arange(width), offset, std, amp) + bkg\n",
    "    return dist\n",
    "\n",
    "\n",
    "def create_random_streak(amp_min):\n",
    "    while True:\n",
    "        std = stats.gamma.rvs(*params_gamma_width) * 0.05\n",
    "        width = std * 10\n",
    "\n",
    "        amplitude = stats.gamma.rvs(*params_gamma_amplitude)\n",
    "        # amplitude = np.random.random() * 80 + amp_min\n",
    "\n",
    "        if random.random() < 0.6:\n",
    "            length = stats.gamma.rvs(*params_gamma_length)\n",
    "        else:\n",
    "            length = np.random.random() * 90 + 10\n",
    "\n",
    "        streak = np.repeat(np.array([gaussian_streak(width, width / 2, std, amplitude, 0)]).T, length, axis=1)\n",
    "\n",
    "        # use 2*std, which is \"real\" width\n",
    "        if length / (std * 2) > 2 and amplitude > amp_min and length > 10 and width > 0:\n",
    "            break\n",
    "\n",
    "    return streak\n",
    "\n",
    "\n",
    "def implant_random_streak(image):\n",
    "    bkg = sep.Background(image)\n",
    "    # print(bkg.globalrms)\n",
    "    streak = create_random_streak(bkg.globalrms * min_amplitude)\n",
    "\n",
    "    y_len, x_len = image.shape\n",
    "\n",
    "    rotation = np.random.uniform(0, 360)\n",
    "    streak = skimage.transform.rotate(streak, rotation, resize=True, order=3)\n",
    "\n",
    "    # add shot noise\n",
    "    streak = np.random.poisson(streak * gain)\n",
    "\n",
    "    streak = streak/gain\n",
    "\n",
    "    y_len_streak, x_len_streak = streak.shape\n",
    "    x = np.random.randint(0, x_len - x_len_streak)\n",
    "    y = np.random.randint(0, y_len - y_len_streak)\n",
    "\n",
    "    new_image = np.copy(image)\n",
    "    shape = streak.shape\n",
    "    new_image[y:y + shape[0], x:x + shape[1]] += streak\n",
    "\n",
    "    return new_image"
   ]
  },
  {
   "cell_type": "code",
   "execution_count": 51,
   "metadata": {},
   "outputs": [],
   "source": [
    "def convert_sci_to_ref(file):\n",
    "    filename = file.split(\"/\")[-1]\n",
    "    return \"/media/rd1/ztf_neos/fits_files_resampled/\" + filename[:-len(\"sciimg.resamp.fits\")] + \"refimg.resamp.fits\"\n",
    "\n",
    "\n",
    "def align(sci_fits, ref_fits):\n",
    "    sci, sci_header = sci_fits\n",
    "    ref, ref_header = ref_fits\n",
    "\n",
    "    ref_aligned = reproject.reproject_interp((ref, ref_header), sci_header, return_footprint=False)\n",
    "\n",
    "    return ref_aligned\n",
    "\n",
    "\n",
    "def distance(c1, c2):\n",
    "    return ((c1[0] - c2[0])**2 + (c1[1] - c2[1])**2) ** 0.5\n",
    "\n",
    "\n",
    "size = 80\n",
    "\n",
    "filenames = glob.glob(\"/media/rd1/ztf_neos/fits_files_resampled/*_sciimg.resamp.fits\")\n",
    "filename_pairs = [[file, convert_sci_to_ref(file)] for file in filenames]"
   ]
  },
  {
   "cell_type": "code",
   "execution_count": 9,
   "metadata": {},
   "outputs": [],
   "source": [
    "sci_file, ref_file = random.choice(filename_pairs)\n",
    "sci_fits = fits.getdata(sci_file, header=True)\n",
    "ref_fits = fits.getdata(ref_file, header=True)\n",
    "ref = align(sci_fits, ref_fits)\n",
    "sci = sci_fits[0]"
   ]
  },
  {
   "cell_type": "code",
   "execution_count": 12,
   "metadata": {},
   "outputs": [],
   "source": [
    "y_len, x_len = sci.shape\n",
    "images = []\n",
    "for i in range(0, y_len, 50):\n",
    "    for j in range(0, x_len, 50):\n",
    "        if j + size >= x_len or i + size >= y_len:\n",
    "            continue\n",
    "\n",
    "        crop_sci = sci[i:i+80, j:j+80]\n",
    "        crop_ref = ref[i:i+80, j:j+80]\n",
    "\n",
    "        if np.sum(crop_sci == 0) >= 10 or np.sum(crop_ref == 0) >= 10 or np.sum(np.isnan(crop_sci)) > 0 or np.sum(np.isnan(crop_ref)) > 0:\n",
    "            continue\n",
    "\n",
    "        images.append([crop_sci, crop_ref])"
   ]
  },
  {
   "cell_type": "code",
   "execution_count": 30,
   "metadata": {},
   "outputs": [],
   "source": [
    "def normalize(arr):\n",
    "    vmin, vmax = ZScaleInterval().get_limits(arr)\n",
    "    return np.clip((arr - vmin)/(vmax - vmin), 0, 1)"
   ]
  },
  {
   "cell_type": "code",
   "execution_count": 82,
   "metadata": {},
   "outputs": [
    {
     "data": {
      "text/plain": [
       "<matplotlib.image.AxesImage at 0x7fc5a8b1b358>"
      ]
     },
     "execution_count": 82,
     "metadata": {},
     "output_type": "execute_result"
    },
    {
     "data": {
      "image/png": "[encoded data removed]",
      "text/plain": [
       "<Figure size 432x288 with 1 Axes>"
      ]
     },
     "metadata": {
      "needs_background": "light"
     },
     "output_type": "display_data"
    }
   ],
   "source": [
    "plt.imshow(normalize(images[200][0]), cmap=\"gray\")"
   ]
  },
  {
   "cell_type": "code",
   "execution_count": 89,
   "metadata": {},
   "outputs": [
    {
     "data": {
      "text/plain": [
       "<matplotlib.image.AxesImage at 0x7fc5a76000f0>"
      ]
     },
     "execution_count": 89,
     "metadata": {},
     "output_type": "execute_result"
    },
    {
     "data": {
      "image/png": "[encoded data removed]",
      "text/plain": [
       "<Figure size 432x288 with 1 Axes>"
      ]
     },
     "metadata": {
      "needs_background": "light"
     },
     "output_type": "display_data"
    }
   ],
   "source": [
    "image = np.copy(images[200][0])\n",
    "image = image.byteswap().newbyteorder()\n",
    "image = implant_random_streak(image)\n",
    "plt.imshow(normalize(image), cmap=\"gray\")"
   ]
  },
  {
   "cell_type": "code",
   "execution_count": 91,
   "metadata": {},
   "outputs": [
    {
     "name": "stdout",
     "output_type": "stream",
     "text": [
      "True\n"
     ]
    },
    {
     "data": {
      "image/png": "[encoded data removed]",
      "text/plain": [
       "<Figure size 432x288 with 1 Axes>"
      ]
     },
     "metadata": {
      "needs_background": "light"
     },
     "output_type": "display_data"
    },
    {
     "data": {
      "text/plain": [
       "<Figure size 432x288 with 0 Axes>"
      ]
     },
     "metadata": {},
     "output_type": "display_data"
    }
   ],
   "source": [
    "# works = []\n",
    "thresholds = [1.1, 1.3, 1.5, 1.7]\n",
    "# for image, _ in real_images:\n",
    "#     if image.size == 0:\n",
    "#         works.append(False)\n",
    "#         continue\n",
    "\n",
    "# image = np.copy(np.array(image))\n",
    "\n",
    "bkg = sep.Background(image)\n",
    "image = image - bkg\n",
    "\n",
    "did_work = False\n",
    "for threshold in thresholds:\n",
    "\n",
    "    threshold = bkg.rms() * threshold\n",
    "#     threshold = detect_threshold(image, 1.5)\n",
    "#     threshold = skimage.filters.thresholding.threshold_(image)\n",
    "\n",
    "    segm = detect_sources(image, threshold, 20, connectivity=4)\n",
    "\n",
    "    try:\n",
    "        segm = deblend_sources(image, segm, 20, connectivity=4)\n",
    "    except:\n",
    "        break\n",
    "\n",
    "    info = source_properties(image, segm)\n",
    "\n",
    "    best_streak = None\n",
    "\n",
    "    for obj in info:\n",
    "\n",
    "        cutout = obj.data_cutout_ma\n",
    "        elongation = obj.elongation\n",
    "        bbox = [obj.bbox.ixmin, obj.bbox.ixmax, obj.bbox.iymin, obj.bbox.iymax]\n",
    "        bbox = np.array(bbox, np.float64)\n",
    "\n",
    "        length = distance(cutout.shape, (0,0))\n",
    "        midpoint = (image.shape[0] / 2, image.shape[1] / 2)\n",
    "        plt.imshow(normalize(image)[int(bbox[2]):int(bbox[3]), int(bbox[0]):int(bbox[1])], cmap=\"gray\")\n",
    "        plt.figure()\n",
    "        if length > 8 and elongation > 2:\n",
    "            did_work = True\n",
    "            break\n",
    "\n",
    "    if did_work:\n",
    "        break\n",
    "print(did_work)\n",
    "# works.append(did_work)"
   ]
  },
  {
   "cell_type": "code",
   "execution_count": null,
   "metadata": {},
   "outputs": [],
   "source": []
  }
 ],
 "metadata": {
  "kernelspec": {
   "display_name": "Python 3",
   "language": "python",
   "name": "python3"
  },
  "language_info": {
   "codemirror_mode": {
    "name": "ipython",
    "version": 3
   },
   "file_extension": ".py",
   "mimetype": "text/x-python",
   "name": "python",
   "nbconvert_exporter": "python",
   "pygments_lexer": "ipython3",
   "version": "3.7.9"
  }
 },
 "nbformat": 4,
 "nbformat_minor": 2
}
